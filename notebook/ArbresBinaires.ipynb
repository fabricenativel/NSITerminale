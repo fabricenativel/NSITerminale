{
 "cells": [
  {
   "cell_type": "markdown",
   "metadata": {},
   "source": [
    "#  <font color=\"darkred\"> &#10070; Implémentation des arbres binaires en Python </font>\n",
    "\n",
    "\n",
    "## <font color=\"darkblue\"> &diams; Rappel de cours</font>\n",
    "\n",
    "### Définition récursive des arbres binaires\n",
    "\n",
    "En cours, un arbre binaire a été définie de façon récursive : un arbre binaire est soit vide, soit un triplet formé par l'étiquette du noeud et deux arbres binaires (le sous arbre gauche et le sous arbre droit). Cette définion va nous servir de base pour implémenter en Python les arbres binaires.\n",
    "En notant $\\Delta$ l'abre vide, une définition mathématique d'un arbre binaire pourrait donc être :\n",
    "\n",
    "$T$ est un arbre binaire si et seulement si \n",
    "* $T=\\Delta$ ou,\n",
    "* $T = (v,sag,sad)$ où $sag$  et $sag$ sont des arbres binaires (et $v$ l'étiquette) \n",
    "\n",
    "### Programmation orienté objet\n",
    "D'autre part, comme pour les listes, piles et files, nous utiliserons la programmation orientée objet\n",
    "\n",
    "Plusieurs implémentation des arbres binaires sont possibles, nous faisons le choix :\n",
    "* de définir une classe noeud sous la forme d'un triplet (etiquette, fils droit, fils gauche)\n",
    "* de définir un arbre binaire comme un accès à sa racine\n",
    "\n",
    "Nous adpotons cette façon de faire car choisir de représenter un arbre avec une seule classe (celle des noeuds) pose le problème de la représentation de l'arbre vide qui n'est pas un triplet.\n",
    "\n",
    "## <font color=\"darkblue\"> &diams; La classe noeud </font>\n",
    " Pas de surprise pour la définition, un noeud est un triplet (étiquette, fils gauche, fils droit) :"
   ]
  },
  {
   "cell_type": "code",
   "execution_count": 1,
   "metadata": {},
   "outputs": [],
   "source": [
    "# Classe noeud pour un arbre binaire\n",
    "class Noeud:\n",
    "    \n",
    "    def __init__(self, etiquette, gauche, droit):\n",
    "        self.etiquette = etiquette\n",
    "        self.gauche = gauche\n",
    "        self.droit = droit"
   ]
  },
  {
   "cell_type": "markdown",
   "metadata": {},
   "source": [
    "On utilisera le <code> None </code> de Python pour indiquer qu'un fils est absent."
   ]
  },
  {
   "cell_type": "markdown",
   "metadata": {},
   "source": [
    "## <font color=green> &#9998; Exercices </font>\n",
    "1. <font color=green>En utilisant le constructeur précédent créer:\n",
    "    * Deux feuilles D et E d'étiquette respectives \"D\"et \"E\".\n",
    "    * C ayant pour fils gauche E (crée ci-dessus), pas de fils droit et pour étiquette \"C\".\n",
    "    * B ayant pour fils droit D,  pas de fils gauche et étiquette \"B\".\n",
    "    * A ayant pour fils gauche B, fils droit D  et étiquette \"A\" </font>"
   ]
  },
  {
   "cell_type": "code",
   "execution_count": 1,
   "metadata": {},
   "outputs": [],
   "source": [
    "# Vos réponse ici\n"
   ]
  },
  {
   "cell_type": "markdown",
   "metadata": {},
   "source": [
    "2. <font color=\"green\"> Ajouter à classe noeud ci-dessus une méthode <code>est_feuille</code> qui renvoie <code>True</code> si le noeud est une feuille et <code>False</code> sinon."
   ]
  },
  {
   "cell_type": "code",
   "execution_count": null,
   "metadata": {},
   "outputs": [],
   "source": [
    "# Recopier la classe noeud et y ajouter la méthode demandée\n"
   ]
  },
  {
   "cell_type": "markdown",
   "metadata": {},
   "source": [
    "3. <font color=\"green\"> Modifier le constructeur de la classe noeud de façon à ce que les fils soient <code>None</code> par défaut </font>"
   ]
  },
  {
   "cell_type": "code",
   "execution_count": null,
   "metadata": {},
   "outputs": [],
   "source": [
    "# Recopier la classe noeud et y ajouter la méthode demandée\n"
   ]
  },
  {
   "cell_type": "markdown",
   "metadata": {},
   "source": [
    "## <font color=\"darkblue\"> &diams; La classe arbre </font>\n",
    "\n",
    "On peut maintenant définir un arbre comme un accès au noeud racine. Si cet accès est <code>None</code> alors il s'agit de l'arbre vide.\n",
    "\n"
   ]
  },
  {
   "cell_type": "code",
   "execution_count": 2,
   "metadata": {},
   "outputs": [],
   "source": [
    "class ArbreBinaire:\n",
    "    \n",
    "    def __init__(self,racine):\n",
    "        # racine est soit None (arbre vide) soit un objet de la classe noeud\n",
    "        self.racine=racine"
   ]
  },
  {
   "cell_type": "markdown",
   "metadata": {},
   "source": [
    "## <font color=green> &#9998; Exercices </font>\n",
    "4. <font color=green> Compléter la classe  <code>ArbreBinaire</code> en ajoutant une méthode <code>est_vide</code> qui renvoie <code>True</code> lorsque l'abre est vide et <code>False</code> sinon.:"
   ]
  },
  {
   "cell_type": "code",
   "execution_count": 2,
   "metadata": {},
   "outputs": [],
   "source": [
    "class ArbreBinaire:\n",
    "    \n",
    "    def __init__(self,racine):\n",
    "        # racine est soit None (arbre vide) soit un objet de la classe noeud\n",
    "        self.racine=racine\n",
    "        \n",
    "    #Ajouter la méthode est_vide ici :\n",
    "    "
   ]
  },
  {
   "attachments": {
    "exemple1.png": {
     "image/png": "[encoded data removed]"
    }
   },
   "cell_type": "markdown",
   "metadata": {},
   "source": [
    "## <font color=\"darkblue\"> &diams; Premier exemple </font>\n",
    "\n",
    "Nous allons utiliser cette implémentation des arbres pour représenter l'arbre binaire suivant :\n",
    "![exemple1.png](attachment:exemple1.png)\n",
    "\n",
    "le noeud E, par exemple, a pour fils le noeud F, pour créer E, il faut donc avoir déjà crée F. On doit donc en quelque sorte déclarer les noeuds, à partir des feuilles :"
   ]
  },
  {
   "cell_type": "code",
   "execution_count": 3,
   "metadata": {},
   "outputs": [],
   "source": [
    "# Par défaut les fils sont à None\n",
    "C = Noeud(\"C\")\n",
    "D = Noeud(\"D\")\n",
    "F = Noeud(\"F\")"
   ]
  },
  {
   "cell_type": "code",
   "execution_count": 4,
   "metadata": {},
   "outputs": [],
   "source": [
    "# On peut à présent \"remonter\" dans l'arbre et déclarer les noeuds parents\n",
    "E = Noeud(\"E\",F)\n",
    "B = Noeud(\"B\",D,E)"
   ]
  },
  {
   "cell_type": "markdown",
   "metadata": {},
   "source": [
    "## <font color=green> &#9998; Exercices </font>\n",
    "5. <font color=\"green\"> De la même façon, définir le noeud A </font>"
   ]
  },
  {
   "cell_type": "code",
   "execution_count": 5,
   "metadata": {},
   "outputs": [],
   "source": [
    "# Reste le noeud A à définir\n"
   ]
  },
  {
   "cell_type": "markdown",
   "metadata": {},
   "source": [
    "## <font color=\"darkblue\"> &diams; Visualisation de l'arbre</font>\n"
   ]
  },
  {
   "cell_type": "markdown",
   "metadata": {},
   "source": [
    "Pour visualer l'abre nous allons utiliser une librarie de Python **graphviz** qui permet de visualer les graphes (et donc en particulier les arbres). Les élèves intéressés pourront se renseigner par eux-mêmes sur graphviz, mais ce module ne fait pas partie du programme de terminale et ne sera donc pas évalué."
   ]
  },
  {
   "cell_type": "code",
   "execution_count": 6,
   "metadata": {},
   "outputs": [],
   "source": [
    "# Importation de Graphviz\n",
    "from graphviz import Digraph"
   ]
  },
  {
   "cell_type": "markdown",
   "metadata": {},
   "source": [
    "La méthode de visualisation de l'arbre est donc fournit tel quel, il vous reste à l'utiliser !"
   ]
  },
  {
   "cell_type": "code",
   "execution_count": 45,
   "metadata": {},
   "outputs": [],
   "source": [
    "class ArbreBinaire:\n",
    "    \n",
    "    def __init__(self,racine):\n",
    "        # racine est soit None (arbre vide) soit un objet de la classe noeud\n",
    "        self.racine=racine\n",
    "    \n",
    "    # Parcours l'abre en récupérant les noeuds et les arêtes au format utilisé par Digraph\n",
    "    def arbre_digraph(self):\n",
    "        noeuds=[]\n",
    "        aretes=[]\n",
    "        if self!=None:\n",
    "            noeuds=[self.racine.etiquette]\n",
    "            if self.racine.gauche!=None:\n",
    "                aretes.append([self.racine.etiquette,self.racine.gauche.etiquette])\n",
    "                sag = ArbreBinaire(self.racine.gauche)\n",
    "                pg = sag.arbre_digraph()\n",
    "                noeuds = noeuds + pg[0]\n",
    "                aretes = aretes + pg[1]\n",
    "            if self.racine.droit!=None:\n",
    "                aretes.append([self.racine.etiquette,self.racine.droit.etiquette])\n",
    "                sad = ArbreBinaire(self.racine.droit)\n",
    "                pd = sad.arbre_digraph()\n",
    "                noeuds = noeuds + pd[0]\n",
    "                aretes = aretes + pd[1]\n",
    "        return noeuds,aretes\n",
    "            \n",
    "    def affiche(self):\n",
    "        # création de l'objet graphviz qui sera renvoyé\n",
    "        img_arbre = Digraph()\n",
    "        noeuds, aretes = self.arbre_digraph()\n",
    "        for n in noeuds:\n",
    "            img_arbre.node(n,n)\n",
    "        for a in aretes:\n",
    "            img_arbre.edge(a[0],a[1])\n",
    "        return img_arbre\n",
    "        "
   ]
  },
  {
   "cell_type": "code",
   "execution_count": 46,
   "metadata": {},
   "outputs": [
    {
     "data": {
      "image/svg+xml": [
       "<?xml version=\"1.0\" encoding=\"UTF-8\" standalone=\"no\"?>\n",
       "<!DOCTYPE svg PUBLIC \"-//W3C//DTD SVG 1.1//EN\"\n",
       " \"http://www.w3.org/Graphics/SVG/1.1/DTD/svg11.dtd\">\n",
       "<!-- Generated by graphviz version 2.43.0 (0)\n",
       " -->\n",
       "<!-- Title: %3 Pages: 1 -->\n",
       "<svg width=\"170pt\" height=\"260pt\"\n",
       " viewBox=\"0.00 0.00 170.00 260.00\" xmlns=\"http://www.w3.org/2000/svg\" xmlns:xlink=\"http://www.w3.org/1999/xlink\">\n",
       "<g id=\"graph0\" class=\"graph\" transform=\"scale(1 1) rotate(0) translate(4 256)\">\n",
       "<title>%3</title>\n",
       "<polygon fill=\"white\" stroke=\"transparent\" points=\"-4,4 -4,-256 166,-256 166,4 -4,4\"/>\n",
       "<!-- A -->\n",
       "<g id=\"node1\" class=\"node\">\n",
       "<title>A</title>\n",
       "<ellipse fill=\"none\" stroke=\"black\" cx=\"99\" cy=\"-234\" rx=\"27\" ry=\"18\"/>\n",
       "<text text-anchor=\"middle\" x=\"99\" y=\"-230.3\" font-family=\"Times,serif\" font-size=\"14.00\">A</text>\n",
       "</g>\n",
       "<!-- B -->\n",
       "<g id=\"node2\" class=\"node\">\n",
       "<title>B</title>\n",
       "<ellipse fill=\"none\" stroke=\"black\" cx=\"63\" cy=\"-162\" rx=\"27\" ry=\"18\"/>\n",
       "<text text-anchor=\"middle\" x=\"63\" y=\"-158.3\" font-family=\"Times,serif\" font-size=\"14.00\">B</text>\n",
       "</g>\n",
       "<!-- A&#45;&gt;B -->\n",
       "<g id=\"edge1\" class=\"edge\">\n",
       "<title>A&#45;&gt;B</title>\n",
       "<path fill=\"none\" stroke=\"black\" d=\"M90.65,-216.76C86.29,-208.28 80.85,-197.71 75.96,-188.2\"/>\n",
       "<polygon fill=\"black\" stroke=\"black\" points=\"78.99,-186.44 71.3,-179.15 72.77,-189.64 78.99,-186.44\"/>\n",
       "</g>\n",
       "<!-- C -->\n",
       "<g id=\"node6\" class=\"node\">\n",
       "<title>C</title>\n",
       "<ellipse fill=\"none\" stroke=\"black\" cx=\"135\" cy=\"-162\" rx=\"27\" ry=\"18\"/>\n",
       "<text text-anchor=\"middle\" x=\"135\" y=\"-158.3\" font-family=\"Times,serif\" font-size=\"14.00\">C</text>\n",
       "</g>\n",
       "<!-- A&#45;&gt;C -->\n",
       "<g id=\"edge5\" class=\"edge\">\n",
       "<title>A&#45;&gt;C</title>\n",
       "<path fill=\"none\" stroke=\"black\" d=\"M107.35,-216.76C111.71,-208.28 117.15,-197.71 122.04,-188.2\"/>\n",
       "<polygon fill=\"black\" stroke=\"black\" points=\"125.23,-189.64 126.7,-179.15 119.01,-186.44 125.23,-189.64\"/>\n",
       "</g>\n",
       "<!-- D -->\n",
       "<g id=\"node3\" class=\"node\">\n",
       "<title>D</title>\n",
       "<ellipse fill=\"none\" stroke=\"black\" cx=\"27\" cy=\"-90\" rx=\"27\" ry=\"18\"/>\n",
       "<text text-anchor=\"middle\" x=\"27\" y=\"-86.3\" font-family=\"Times,serif\" font-size=\"14.00\">D</text>\n",
       "</g>\n",
       "<!-- B&#45;&gt;D -->\n",
       "<g id=\"edge2\" class=\"edge\">\n",
       "<title>B&#45;&gt;D</title>\n",
       "<path fill=\"none\" stroke=\"black\" d=\"M54.65,-144.76C50.29,-136.28 44.85,-125.71 39.96,-116.2\"/>\n",
       "<polygon fill=\"black\" stroke=\"black\" points=\"42.99,-114.44 35.3,-107.15 36.77,-117.64 42.99,-114.44\"/>\n",
       "</g>\n",
       "<!-- E -->\n",
       "<g id=\"node4\" class=\"node\">\n",
       "<title>E</title>\n",
       "<ellipse fill=\"none\" stroke=\"black\" cx=\"99\" cy=\"-90\" rx=\"27\" ry=\"18\"/>\n",
       "<text text-anchor=\"middle\" x=\"99\" y=\"-86.3\" font-family=\"Times,serif\" font-size=\"14.00\">E</text>\n",
       "</g>\n",
       "<!-- B&#45;&gt;E -->\n",
       "<g id=\"edge3\" class=\"edge\">\n",
       "<title>B&#45;&gt;E</title>\n",
       "<path fill=\"none\" stroke=\"black\" d=\"M71.35,-144.76C75.71,-136.28 81.15,-125.71 86.04,-116.2\"/>\n",
       "<polygon fill=\"black\" stroke=\"black\" points=\"89.23,-117.64 90.7,-107.15 83.01,-114.44 89.23,-117.64\"/>\n",
       "</g>\n",
       "<!-- F -->\n",
       "<g id=\"node5\" class=\"node\">\n",
       "<title>F</title>\n",
       "<ellipse fill=\"none\" stroke=\"black\" cx=\"99\" cy=\"-18\" rx=\"27\" ry=\"18\"/>\n",
       "<text text-anchor=\"middle\" x=\"99\" y=\"-14.3\" font-family=\"Times,serif\" font-size=\"14.00\">F</text>\n",
       "</g>\n",
       "<!-- E&#45;&gt;F -->\n",
       "<g id=\"edge4\" class=\"edge\">\n",
       "<title>E&#45;&gt;F</title>\n",
       "<path fill=\"none\" stroke=\"black\" d=\"M99,-71.7C99,-63.98 99,-54.71 99,-46.11\"/>\n",
       "<polygon fill=\"black\" stroke=\"black\" points=\"102.5,-46.1 99,-36.1 95.5,-46.1 102.5,-46.1\"/>\n",
       "</g>\n",
       "</g>\n",
       "</svg>\n"
      ],
      "text/plain": [
       "<graphviz.dot.Digraph at 0x7f8edc359070>"
      ]
     },
     "execution_count": 46,
     "metadata": {},
     "output_type": "execute_result"
    }
   ],
   "source": [
    "# on crée l'arbre de racine A et on l'affiche !\n",
    "arbre = ArbreBinaire(A)\n",
    "arbre.affiche()"
   ]
  },
  {
   "cell_type": "markdown",
   "metadata": {},
   "source": [
    "## <font color=green> &#9998; Exercices </font>\n",
    "5. <font color=green>Utiliser la classe Arbre pour définir un arbre binaire complet de profondeur 2. Afficher sa visualisation (on utilisera les lettres de l'alphabet comme etiquette des noeuds)</font>"
   ]
  },
  {
   "cell_type": "code",
   "execution_count": null,
   "metadata": {},
   "outputs": [],
   "source": [
    "# Votre réponse ici\n"
   ]
  },
  {
   "cell_type": "markdown",
   "metadata": {},
   "source": [
    "6. <font color=green>Utiliser la classe Arbre pour définir un arbre binaire dégénéré de taille 5. Afficher sa visualisation (on utilisera les lettres de l'alphabet comme etiquette des noeuds)</font>"
   ]
  },
  {
   "cell_type": "code",
   "execution_count": null,
   "metadata": {},
   "outputs": [],
   "source": [
    "# Votre réponse ici\n"
   ]
  },
  {
   "cell_type": "markdown",
   "metadata": {},
   "source": [
    "## <font color=\"darkblue\"> &diams; Taille d'un arbre</font>\n",
    "\n",
    "On veut compléter notre classe <code>ArbreBinaire</code> par une méthode qui renvoie la taille de l'arbre (c'est à dire son nombre de noeud). Notre structure de donnée étant récursive, cette méthode sera codée de façon récursive :\n",
    "* Si $T$ est vide alors sa taille est 0\n",
    "* Sinon  $taille(T)=1 + taille(sag) + taille(sad)$\n",
    "\n",
    "On doit donc ajouter à la classe <code>ArbreBinaire</code> la méthode suivante :"
   ]
  },
  {
   "cell_type": "code",
   "execution_count": 1,
   "metadata": {},
   "outputs": [],
   "source": [
    "    def taille(self):\n",
    "        if self.racine==None:\n",
    "            return __\n",
    "        else:\n",
    "            sag = ArbreBinaire(self.racine.gauche)\n",
    "            sad = ArbreBinaire(self.racine.droit)\n",
    "            return 1+_________+_________"
   ]
  },
  {
   "cell_type": "markdown",
   "metadata": {},
   "source": [
    "## <font color=green> &#9998; Exercices </font>\n",
    "7. <font color=green>Recopier et compléter cette méthode dans la classe <code>ArbreBinaire</code> ci-dessous. Tester votre méthode sur l'arbre de racine A et sur les arbres des exercices 5 et  6.</font>"
   ]
  },
  {
   "cell_type": "code",
   "execution_count": null,
   "metadata": {},
   "outputs": [],
   "source": [
    "#\n",
    "\n"
   ]
  },
  {
   "cell_type": "markdown",
   "metadata": {},
   "source": [
    "## <font color=\"darkblue\"> &diams; Hauteur d'un arbre</font>\n",
    "\n",
    "## <font color=green> &#9998; Exercices </font>\n",
    "\n",
    "8. <font color=green>Compléter la définition <strong>récursive</strong> de la hauteur d'un abre binaire. donnée ci-dessous</font>"
   ]
  },
  {
   "cell_type": "markdown",
   "metadata": {},
   "source": [
    "On note h(T) la hauteur d'un arbre binaire T, alors :\n",
    "* Si T est vide, h(T)=...\n",
    "* Sinon h(T) = ... + ...(sag(T),sad(T)) où sag(T) et sad(T) sont les sous arbres droits et gauche de T."
   ]
  },
  {
   "cell_type": "markdown",
   "metadata": {},
   "source": [
    "9. <font color=green>Compléter la classe <code>ArbreBinaire</code> en y écrivant une méthode <code>hauteur</code> qui calcule récursivement la hauteur de cet arbre. Tester cette méthode</font>"
   ]
  },
  {
   "cell_type": "code",
   "execution_count": null,
   "metadata": {},
   "outputs": [],
   "source": [
    "# Votre réponse ici\n"
   ]
  }
 ],
 "metadata": {
  "kernelspec": {
   "display_name": "Python 3",
   "language": "python",
   "name": "python3"
  },
  "language_info": {
   "codemirror_mode": {
    "name": "ipython",
    "version": 3
   },
   "file_extension": ".py",
   "mimetype": "text/x-python",
   "name": "python",
   "nbconvert_exporter": "python",
   "pygments_lexer": "ipython3",
   "version": "3.8.10"
  }
 },
 "nbformat": 4,
 "nbformat_minor": 4
}
